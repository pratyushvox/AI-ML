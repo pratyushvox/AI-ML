{
  "cells": [
    {
      "cell_type": "markdown",
      "metadata": {
        "id": "KkYGSFZH9B0m"
      },
      "source": [
        "Task - 1: Implementation of MCP Neurons:\n",
        "1. Design a MCP Neuron for ”AND” Boolean Functions and ”OR” Boolean Functions with two\n",
        "inputs:\n",
        "Hint:\n",
        "• Aggregate all the inputs.\n",
        "• Handcraft a Threshold values for ”AND” and ”OR” Function.\n",
        "• Implement a if else statement as stated above.\n",
        "You may use code base provided below or write your own code from scratch:"
      ]
    },
    {
      "cell_type": "code",
      "execution_count": 19,
      "metadata": {
        "id": "PySSUENc9MQZ"
      },
      "outputs": [
        {
          "ename": "ModuleNotFoundError",
          "evalue": "No module named 'numpy'",
          "output_type": "error",
          "traceback": [
            "\u001b[31m---------------------------------------------------------------------------\u001b[39m",
            "\u001b[31mModuleNotFoundError\u001b[39m                       Traceback (most recent call last)",
            "\u001b[36mCell\u001b[39m\u001b[36m \u001b[39m\u001b[32mIn[19]\u001b[39m\u001b[32m, line 1\u001b[39m\n\u001b[32m----> \u001b[39m\u001b[32m1\u001b[39m \u001b[38;5;28;01mimport\u001b[39;00m\u001b[38;5;250m \u001b[39m\u001b[34;01mnumpy\u001b[39;00m\u001b[38;5;250m \u001b[39m\u001b[38;5;28;01mas\u001b[39;00m\u001b[38;5;250m \u001b[39m\u001b[34;01mnp\u001b[39;00m\n",
            "\u001b[31mModuleNotFoundError\u001b[39m: No module named 'numpy'"
          ]
        }
      ],
      "source": [
        "import numpy as np"
      ]
    },
    {
      "cell_type": "markdown",
      "metadata": {
        "id": "4bsidsMi9yKE"
      },
      "source": [
        "###For ”AND” Operations."
      ]
    },
    {
      "cell_type": "code",
      "execution_count": null,
      "metadata": {
        "id": "HKR_RNkt7N2f"
      },
      "outputs": [],
      "source": [
        "def MCP_Neurons_AND(X1, X2, T):\n",
        "  \"\"\"\n",
        "  This functions implements basic AND operations with MCP Neuron for two inputs.\n",
        "  Arguments:\n",
        "  Inputs:\n",
        "  X1 (1 nd array): An array of binary values.\n",
        "  X2 (1 nd array): An array of binary values.\n",
        "  Output:\n",
        "  state_neuron(1D-list): An state of neuron 1 0r 0 for the particular inputs.\n",
        "  \"\"\"\n",
        "  assert len(X1) == len(X2)\n",
        "  ### YOUR CODE HERE ###\n",
        "  # Perform an element wise addition of two input arrays stored in a new array(list):\n",
        "  # Create a new array to put all the prediction let’s name that a state_neuron.\n",
        "  # Append 1 in sate_neuron if sum (element) of above list is above Threshold else append 0.\n",
        "  state_neuron = []\n",
        "  for i in range(len(X1)):\n",
        "    threshold = X1[i] + X2[i]\n",
        "    if threshold >= T:\n",
        "      state_neuron.append(1)\n",
        "    else:\n",
        "      state_neuron.append(0)\n",
        "\n",
        "  return state_neuron"
      ]
    },
    {
      "cell_type": "markdown",
      "metadata": {
        "id": "zKIhrR1R9tg0"
      },
      "source": [
        "###Sample Usage for ”AND” Function."
      ]
    },
    {
      "cell_type": "code",
      "execution_count": null,
      "metadata": {
        "colab": {
          "base_uri": "https://localhost:8080/"
        },
        "id": "OeyeniCX9q4d",
        "outputId": "04064b40-e0ab-4809-e08b-4947aed30f75"
      },
      "outputs": [
        {
          "name": "stdout",
          "output_type": "stream",
          "text": [
            "Output of AND gate for inputs [0, 0, 1, 1] and [0, 1, 0, 1] with threshold 2: [0, 0, 0, 1]\n"
          ]
        }
      ],
      "source": [
        "# Example usage for MCP_Neurons_AND function\n",
        "X1 = [0, 0, 1, 1]\n",
        "X2 = [0, 1, 0, 1]\n",
        "T = 2 # Threshold value\n",
        "# Call the MCP_Neurons_AND function\n",
        "result = MCP_Neurons_AND(X1, X2, T)\n",
        "# Print the result\n",
        "print(f\"Output of AND gate for inputs {X1} and {X2} with threshold {T}: {result}\")"
      ]
    },
    {
      "cell_type": "markdown",
      "metadata": {
        "id": "NdKQHJ2h93Jt"
      },
      "source": [
        "###For ”OR” Operations."
      ]
    },
    {
      "cell_type": "code",
      "execution_count": null,
      "metadata": {
        "id": "KejmkBO_9uPc"
      },
      "outputs": [],
      "source": [
        "def MCP_Neurons_OR(X1, X2, T):\n",
        "  \"\"\"\n",
        "  This function implements basic OR operations with MCP Neuron for two inputs.\n",
        "  Arguments:\n",
        "  Inputs:\n",
        "  X1 (1D array): An array of binary values.\n",
        "  X2 (1D array): An array of binary values.\n",
        "  Output:\n",
        "  state_neuron (1D list): The state of the neuron (1 or 0) for the particular inputs.\n",
        "  \"\"\"\n",
        "\n",
        "  assert len(X1) == len(X2)\n",
        "  ### YOUR CODE HERE ###\n",
        "  # Perform an element wise addition of two input arrays stored in a new array(list):\n",
        "  # Create a new array to put all the prediction let’s name that a state_neuron.\n",
        "  # Append 1 in sate_neuron if sum (element) of above list is above Threshold else append 0.\n",
        "  state_neuron = []\n",
        "  for i in range(len(X1)):\n",
        "    threshold = X1[i] + X2[i]\n",
        "    if threshold >= T:\n",
        "      state_neuron.append(1)\n",
        "    else:\n",
        "      state_neuron.append(0)\n",
        "  return state_neuron"
      ]
    },
    {
      "cell_type": "markdown",
      "metadata": {
        "id": "G3n-Y59f-VV2"
      },
      "source": [
        "###Sample Usage for ”OR” Function."
      ]
    },
    {
      "cell_type": "code",
      "execution_count": null,
      "metadata": {
        "colab": {
          "base_uri": "https://localhost:8080/"
        },
        "id": "m_l-LMiZ-Ah8",
        "outputId": "bbc6a4bf-7020-448f-a86b-4251a0300629"
      },
      "outputs": [
        {
          "name": "stdout",
          "output_type": "stream",
          "text": [
            "Output of OR gate for inputs [0, 0, 1, 1] and [0, 1, 0, 1] with threshold 1: [0, 1, 1, 1]\n"
          ]
        }
      ],
      "source": [
        "# Example usage for MCP_Neurons_OR function\n",
        "X1 = [0, 0, 1, 1]\n",
        "X2 = [0, 1, 0, 1]\n",
        "T = 1 # Threshold value for OR gate\n",
        "# Call the MCP_Neurons_OR function\n",
        "result_or = MCP_Neurons_OR(X1, X2, T)\n",
        "# Print the result\n",
        "print(f\"Output of OR gate for inputs {X1} and {X2} with threshold {T}: {result_or}\")"
      ]
    },
    {
      "cell_type": "markdown",
      "metadata": {
        "id": "RFvrr3Xs-Yl8"
      },
      "source": [
        "Answer the Following Question:\n",
        "\n",
        "• You can use Text cell of your notebook to answer the question.\n",
        "\n",
        "• Question - 1: List out all the limitations of MCP - Neurons.\n",
        "\n",
        "• Question - 2: Think if you can develop a logic to solve for XOR\n",
        "function using MCP Neuron.\n",
        "\n",
        "{Can you devise a if else rules.}"
      ]
    },
    {
      "cell_type": "markdown",
      "metadata": {
        "id": "ZIU-bvIiD__u"
      },
      "source": [
        "Task 2: Perceptron Algorithm for 0 vs 1 Classification.\n",
        "1. Objective:\n",
        "\n",
        "    In this exercise, you will implement a Perceptron learning algorithm for binary classification using the\n",
        "    MNIST dataset. Specifically, you will classify the digits 0 and 1. After completing the Perceptron\n",
        "    algorithm, you will evaluate the model’s performance and visualize misclassified images.\n",
        "\n",
        "Dataset: mnist_0_and_1.csv\n",
        "\n",
        "2. Load the Dataset:\n",
        "Start by loading the MNIST dataset containing digits 0 and 1."
      ]
    },
    {
      "cell_type": "code",
      "execution_count": null,
      "metadata": {
        "colab": {
          "base_uri": "https://localhost:8080/",
          "height": 412
        },
        "id": "a3awqYdO-WaT",
        "outputId": "ed6b6819-fad7-4a9e-f8be-aca414b80d5f"
      },
      "outputs": [
        {
          "data": {
            "application/vnd.google.colaboratory.intrinsic+json": {
              "type": "dataframe"
            },
            "text/html": [
              "\n",
              "  <div id=\"df-a2e05e10-93e0-4cc3-9309-20479704f1d8\" class=\"colab-df-container\">\n",
              "    <div>\n",
              "<style scoped>\n",
              "    .dataframe tbody tr th:only-of-type {\n",
              "        vertical-align: middle;\n",
              "    }\n",
              "\n",
              "    .dataframe tbody tr th {\n",
              "        vertical-align: top;\n",
              "    }\n",
              "\n",
              "    .dataframe thead th {\n",
              "        text-align: right;\n",
              "    }\n",
              "</style>\n",
              "<table border=\"1\" class=\"dataframe\">\n",
              "  <thead>\n",
              "    <tr style=\"text-align: right;\">\n",
              "      <th></th>\n",
              "      <th>label</th>\n",
              "      <th>pixel_0</th>\n",
              "      <th>pixel_1</th>\n",
              "      <th>pixel_2</th>\n",
              "      <th>pixel_3</th>\n",
              "      <th>pixel_4</th>\n",
              "      <th>pixel_5</th>\n",
              "      <th>pixel_6</th>\n",
              "      <th>pixel_7</th>\n",
              "      <th>pixel_8</th>\n",
              "      <th>...</th>\n",
              "      <th>pixel_774</th>\n",
              "      <th>pixel_775</th>\n",
              "      <th>pixel_776</th>\n",
              "      <th>pixel_777</th>\n",
              "      <th>pixel_778</th>\n",
              "      <th>pixel_779</th>\n",
              "      <th>pixel_780</th>\n",
              "      <th>pixel_781</th>\n",
              "      <th>pixel_782</th>\n",
              "      <th>pixel_783</th>\n",
              "    </tr>\n",
              "  </thead>\n",
              "  <tbody>\n",
              "    <tr>\n",
              "      <th>1590</th>\n",
              "      <td>5</td>\n",
              "      <td>0</td>\n",
              "      <td>0</td>\n",
              "      <td>0</td>\n",
              "      <td>0</td>\n",
              "      <td>0</td>\n",
              "      <td>0</td>\n",
              "      <td>0</td>\n",
              "      <td>0</td>\n",
              "      <td>0</td>\n",
              "      <td>...</td>\n",
              "      <td>0.0</td>\n",
              "      <td>0.0</td>\n",
              "      <td>0.0</td>\n",
              "      <td>0.0</td>\n",
              "      <td>0.0</td>\n",
              "      <td>0.0</td>\n",
              "      <td>0.0</td>\n",
              "      <td>0.0</td>\n",
              "      <td>0.0</td>\n",
              "      <td>0.0</td>\n",
              "    </tr>\n",
              "    <tr>\n",
              "      <th>2563</th>\n",
              "      <td>5</td>\n",
              "      <td>0</td>\n",
              "      <td>0</td>\n",
              "      <td>0</td>\n",
              "      <td>0</td>\n",
              "      <td>0</td>\n",
              "      <td>0</td>\n",
              "      <td>0</td>\n",
              "      <td>0</td>\n",
              "      <td>0</td>\n",
              "      <td>...</td>\n",
              "      <td>0.0</td>\n",
              "      <td>0.0</td>\n",
              "      <td>0.0</td>\n",
              "      <td>0.0</td>\n",
              "      <td>0.0</td>\n",
              "      <td>0.0</td>\n",
              "      <td>0.0</td>\n",
              "      <td>0.0</td>\n",
              "      <td>0.0</td>\n",
              "      <td>0.0</td>\n",
              "    </tr>\n",
              "    <tr>\n",
              "      <th>634</th>\n",
              "      <td>3</td>\n",
              "      <td>0</td>\n",
              "      <td>0</td>\n",
              "      <td>0</td>\n",
              "      <td>0</td>\n",
              "      <td>0</td>\n",
              "      <td>0</td>\n",
              "      <td>0</td>\n",
              "      <td>0</td>\n",
              "      <td>0</td>\n",
              "      <td>...</td>\n",
              "      <td>0.0</td>\n",
              "      <td>0.0</td>\n",
              "      <td>0.0</td>\n",
              "      <td>0.0</td>\n",
              "      <td>0.0</td>\n",
              "      <td>0.0</td>\n",
              "      <td>0.0</td>\n",
              "      <td>0.0</td>\n",
              "      <td>0.0</td>\n",
              "      <td>0.0</td>\n",
              "    </tr>\n",
              "    <tr>\n",
              "      <th>1164</th>\n",
              "      <td>5</td>\n",
              "      <td>0</td>\n",
              "      <td>0</td>\n",
              "      <td>0</td>\n",
              "      <td>0</td>\n",
              "      <td>0</td>\n",
              "      <td>0</td>\n",
              "      <td>0</td>\n",
              "      <td>0</td>\n",
              "      <td>0</td>\n",
              "      <td>...</td>\n",
              "      <td>0.0</td>\n",
              "      <td>0.0</td>\n",
              "      <td>0.0</td>\n",
              "      <td>0.0</td>\n",
              "      <td>0.0</td>\n",
              "      <td>0.0</td>\n",
              "      <td>0.0</td>\n",
              "      <td>0.0</td>\n",
              "      <td>0.0</td>\n",
              "      <td>0.0</td>\n",
              "    </tr>\n",
              "    <tr>\n",
              "      <th>1032</th>\n",
              "      <td>3</td>\n",
              "      <td>0</td>\n",
              "      <td>0</td>\n",
              "      <td>0</td>\n",
              "      <td>0</td>\n",
              "      <td>0</td>\n",
              "      <td>0</td>\n",
              "      <td>0</td>\n",
              "      <td>0</td>\n",
              "      <td>0</td>\n",
              "      <td>...</td>\n",
              "      <td>0.0</td>\n",
              "      <td>0.0</td>\n",
              "      <td>0.0</td>\n",
              "      <td>0.0</td>\n",
              "      <td>0.0</td>\n",
              "      <td>0.0</td>\n",
              "      <td>0.0</td>\n",
              "      <td>0.0</td>\n",
              "      <td>0.0</td>\n",
              "      <td>0.0</td>\n",
              "    </tr>\n",
              "    <tr>\n",
              "      <th>1874</th>\n",
              "      <td>3</td>\n",
              "      <td>0</td>\n",
              "      <td>0</td>\n",
              "      <td>0</td>\n",
              "      <td>0</td>\n",
              "      <td>0</td>\n",
              "      <td>0</td>\n",
              "      <td>0</td>\n",
              "      <td>0</td>\n",
              "      <td>0</td>\n",
              "      <td>...</td>\n",
              "      <td>0.0</td>\n",
              "      <td>0.0</td>\n",
              "      <td>0.0</td>\n",
              "      <td>0.0</td>\n",
              "      <td>0.0</td>\n",
              "      <td>0.0</td>\n",
              "      <td>0.0</td>\n",
              "      <td>0.0</td>\n",
              "      <td>0.0</td>\n",
              "      <td>0.0</td>\n",
              "    </tr>\n",
              "    <tr>\n",
              "      <th>1647</th>\n",
              "      <td>5</td>\n",
              "      <td>0</td>\n",
              "      <td>0</td>\n",
              "      <td>0</td>\n",
              "      <td>0</td>\n",
              "      <td>0</td>\n",
              "      <td>0</td>\n",
              "      <td>0</td>\n",
              "      <td>0</td>\n",
              "      <td>0</td>\n",
              "      <td>...</td>\n",
              "      <td>0.0</td>\n",
              "      <td>0.0</td>\n",
              "      <td>0.0</td>\n",
              "      <td>0.0</td>\n",
              "      <td>0.0</td>\n",
              "      <td>0.0</td>\n",
              "      <td>0.0</td>\n",
              "      <td>0.0</td>\n",
              "      <td>0.0</td>\n",
              "      <td>0.0</td>\n",
              "    </tr>\n",
              "    <tr>\n",
              "      <th>2394</th>\n",
              "      <td>3</td>\n",
              "      <td>0</td>\n",
              "      <td>0</td>\n",
              "      <td>0</td>\n",
              "      <td>0</td>\n",
              "      <td>0</td>\n",
              "      <td>0</td>\n",
              "      <td>0</td>\n",
              "      <td>0</td>\n",
              "      <td>0</td>\n",
              "      <td>...</td>\n",
              "      <td>0.0</td>\n",
              "      <td>0.0</td>\n",
              "      <td>0.0</td>\n",
              "      <td>0.0</td>\n",
              "      <td>0.0</td>\n",
              "      <td>0.0</td>\n",
              "      <td>0.0</td>\n",
              "      <td>0.0</td>\n",
              "      <td>0.0</td>\n",
              "      <td>0.0</td>\n",
              "    </tr>\n",
              "    <tr>\n",
              "      <th>689</th>\n",
              "      <td>3</td>\n",
              "      <td>0</td>\n",
              "      <td>0</td>\n",
              "      <td>0</td>\n",
              "      <td>0</td>\n",
              "      <td>0</td>\n",
              "      <td>0</td>\n",
              "      <td>0</td>\n",
              "      <td>0</td>\n",
              "      <td>0</td>\n",
              "      <td>...</td>\n",
              "      <td>0.0</td>\n",
              "      <td>0.0</td>\n",
              "      <td>0.0</td>\n",
              "      <td>0.0</td>\n",
              "      <td>0.0</td>\n",
              "      <td>0.0</td>\n",
              "      <td>0.0</td>\n",
              "      <td>0.0</td>\n",
              "      <td>0.0</td>\n",
              "      <td>0.0</td>\n",
              "    </tr>\n",
              "    <tr>\n",
              "      <th>690</th>\n",
              "      <td>3</td>\n",
              "      <td>0</td>\n",
              "      <td>0</td>\n",
              "      <td>0</td>\n",
              "      <td>0</td>\n",
              "      <td>0</td>\n",
              "      <td>0</td>\n",
              "      <td>0</td>\n",
              "      <td>0</td>\n",
              "      <td>0</td>\n",
              "      <td>...</td>\n",
              "      <td>0.0</td>\n",
              "      <td>0.0</td>\n",
              "      <td>0.0</td>\n",
              "      <td>0.0</td>\n",
              "      <td>0.0</td>\n",
              "      <td>0.0</td>\n",
              "      <td>0.0</td>\n",
              "      <td>0.0</td>\n",
              "      <td>0.0</td>\n",
              "      <td>0.0</td>\n",
              "    </tr>\n",
              "  </tbody>\n",
              "</table>\n",
              "<p>10 rows × 785 columns</p>\n",
              "</div>\n",
              "    <div class=\"colab-df-buttons\">\n",
              "\n",
              "  <div class=\"colab-df-container\">\n",
              "    <button class=\"colab-df-convert\" onclick=\"convertToInteractive('df-a2e05e10-93e0-4cc3-9309-20479704f1d8')\"\n",
              "            title=\"Convert this dataframe to an interactive table.\"\n",
              "            style=\"display:none;\">\n",
              "\n",
              "  <svg xmlns=\"http://www.w3.org/2000/svg\" height=\"24px\" viewBox=\"0 -960 960 960\">\n",
              "    <path d=\"M120-120v-720h720v720H120Zm60-500h600v-160H180v160Zm220 220h160v-160H400v160Zm0 220h160v-160H400v160ZM180-400h160v-160H180v160Zm440 0h160v-160H620v160ZM180-180h160v-160H180v160Zm440 0h160v-160H620v160Z\"/>\n",
              "  </svg>\n",
              "    </button>\n",
              "\n",
              "  <style>\n",
              "    .colab-df-container {\n",
              "      display:flex;\n",
              "      gap: 12px;\n",
              "    }\n",
              "\n",
              "    .colab-df-convert {\n",
              "      background-color: #E8F0FE;\n",
              "      border: none;\n",
              "      border-radius: 50%;\n",
              "      cursor: pointer;\n",
              "      display: none;\n",
              "      fill: #1967D2;\n",
              "      height: 32px;\n",
              "      padding: 0 0 0 0;\n",
              "      width: 32px;\n",
              "    }\n",
              "\n",
              "    .colab-df-convert:hover {\n",
              "      background-color: #E2EBFA;\n",
              "      box-shadow: 0px 1px 2px rgba(60, 64, 67, 0.3), 0px 1px 3px 1px rgba(60, 64, 67, 0.15);\n",
              "      fill: #174EA6;\n",
              "    }\n",
              "\n",
              "    .colab-df-buttons div {\n",
              "      margin-bottom: 4px;\n",
              "    }\n",
              "\n",
              "    [theme=dark] .colab-df-convert {\n",
              "      background-color: #3B4455;\n",
              "      fill: #D2E3FC;\n",
              "    }\n",
              "\n",
              "    [theme=dark] .colab-df-convert:hover {\n",
              "      background-color: #434B5C;\n",
              "      box-shadow: 0px 1px 3px 1px rgba(0, 0, 0, 0.15);\n",
              "      filter: drop-shadow(0px 1px 2px rgba(0, 0, 0, 0.3));\n",
              "      fill: #FFFFFF;\n",
              "    }\n",
              "  </style>\n",
              "\n",
              "    <script>\n",
              "      const buttonEl =\n",
              "        document.querySelector('#df-a2e05e10-93e0-4cc3-9309-20479704f1d8 button.colab-df-convert');\n",
              "      buttonEl.style.display =\n",
              "        google.colab.kernel.accessAllowed ? 'block' : 'none';\n",
              "\n",
              "      async function convertToInteractive(key) {\n",
              "        const element = document.querySelector('#df-a2e05e10-93e0-4cc3-9309-20479704f1d8');\n",
              "        const dataTable =\n",
              "          await google.colab.kernel.invokeFunction('convertToInteractive',\n",
              "                                                    [key], {});\n",
              "        if (!dataTable) return;\n",
              "\n",
              "        const docLinkHtml = 'Like what you see? Visit the ' +\n",
              "          '<a target=\"_blank\" href=https://colab.research.google.com/notebooks/data_table.ipynb>data table notebook</a>'\n",
              "          + ' to learn more about interactive tables.';\n",
              "        element.innerHTML = '';\n",
              "        dataTable['output_type'] = 'display_data';\n",
              "        await google.colab.output.renderOutput(dataTable, element);\n",
              "        const docLink = document.createElement('div');\n",
              "        docLink.innerHTML = docLinkHtml;\n",
              "        element.appendChild(docLink);\n",
              "      }\n",
              "    </script>\n",
              "  </div>\n",
              "\n",
              "\n",
              "<div id=\"df-6d354fa9-83cb-48e9-b907-8ba1f9297daf\">\n",
              "  <button class=\"colab-df-quickchart\" onclick=\"quickchart('df-6d354fa9-83cb-48e9-b907-8ba1f9297daf')\"\n",
              "            title=\"Suggest charts\"\n",
              "            style=\"display:none;\">\n",
              "\n",
              "<svg xmlns=\"http://www.w3.org/2000/svg\" height=\"24px\"viewBox=\"0 0 24 24\"\n",
              "     width=\"24px\">\n",
              "    <g>\n",
              "        <path d=\"M19 3H5c-1.1 0-2 .9-2 2v14c0 1.1.9 2 2 2h14c1.1 0 2-.9 2-2V5c0-1.1-.9-2-2-2zM9 17H7v-7h2v7zm4 0h-2V7h2v10zm4 0h-2v-4h2v4z\"/>\n",
              "    </g>\n",
              "</svg>\n",
              "  </button>\n",
              "\n",
              "<style>\n",
              "  .colab-df-quickchart {\n",
              "      --bg-color: #E8F0FE;\n",
              "      --fill-color: #1967D2;\n",
              "      --hover-bg-color: #E2EBFA;\n",
              "      --hover-fill-color: #174EA6;\n",
              "      --disabled-fill-color: #AAA;\n",
              "      --disabled-bg-color: #DDD;\n",
              "  }\n",
              "\n",
              "  [theme=dark] .colab-df-quickchart {\n",
              "      --bg-color: #3B4455;\n",
              "      --fill-color: #D2E3FC;\n",
              "      --hover-bg-color: #434B5C;\n",
              "      --hover-fill-color: #FFFFFF;\n",
              "      --disabled-bg-color: #3B4455;\n",
              "      --disabled-fill-color: #666;\n",
              "  }\n",
              "\n",
              "  .colab-df-quickchart {\n",
              "    background-color: var(--bg-color);\n",
              "    border: none;\n",
              "    border-radius: 50%;\n",
              "    cursor: pointer;\n",
              "    display: none;\n",
              "    fill: var(--fill-color);\n",
              "    height: 32px;\n",
              "    padding: 0;\n",
              "    width: 32px;\n",
              "  }\n",
              "\n",
              "  .colab-df-quickchart:hover {\n",
              "    background-color: var(--hover-bg-color);\n",
              "    box-shadow: 0 1px 2px rgba(60, 64, 67, 0.3), 0 1px 3px 1px rgba(60, 64, 67, 0.15);\n",
              "    fill: var(--button-hover-fill-color);\n",
              "  }\n",
              "\n",
              "  .colab-df-quickchart-complete:disabled,\n",
              "  .colab-df-quickchart-complete:disabled:hover {\n",
              "    background-color: var(--disabled-bg-color);\n",
              "    fill: var(--disabled-fill-color);\n",
              "    box-shadow: none;\n",
              "  }\n",
              "\n",
              "  .colab-df-spinner {\n",
              "    border: 2px solid var(--fill-color);\n",
              "    border-color: transparent;\n",
              "    border-bottom-color: var(--fill-color);\n",
              "    animation:\n",
              "      spin 1s steps(1) infinite;\n",
              "  }\n",
              "\n",
              "  @keyframes spin {\n",
              "    0% {\n",
              "      border-color: transparent;\n",
              "      border-bottom-color: var(--fill-color);\n",
              "      border-left-color: var(--fill-color);\n",
              "    }\n",
              "    20% {\n",
              "      border-color: transparent;\n",
              "      border-left-color: var(--fill-color);\n",
              "      border-top-color: var(--fill-color);\n",
              "    }\n",
              "    30% {\n",
              "      border-color: transparent;\n",
              "      border-left-color: var(--fill-color);\n",
              "      border-top-color: var(--fill-color);\n",
              "      border-right-color: var(--fill-color);\n",
              "    }\n",
              "    40% {\n",
              "      border-color: transparent;\n",
              "      border-right-color: var(--fill-color);\n",
              "      border-top-color: var(--fill-color);\n",
              "    }\n",
              "    60% {\n",
              "      border-color: transparent;\n",
              "      border-right-color: var(--fill-color);\n",
              "    }\n",
              "    80% {\n",
              "      border-color: transparent;\n",
              "      border-right-color: var(--fill-color);\n",
              "      border-bottom-color: var(--fill-color);\n",
              "    }\n",
              "    90% {\n",
              "      border-color: transparent;\n",
              "      border-bottom-color: var(--fill-color);\n",
              "    }\n",
              "  }\n",
              "</style>\n",
              "\n",
              "  <script>\n",
              "    async function quickchart(key) {\n",
              "      const quickchartButtonEl =\n",
              "        document.querySelector('#' + key + ' button');\n",
              "      quickchartButtonEl.disabled = true;  // To prevent multiple clicks.\n",
              "      quickchartButtonEl.classList.add('colab-df-spinner');\n",
              "      try {\n",
              "        const charts = await google.colab.kernel.invokeFunction(\n",
              "            'suggestCharts', [key], {});\n",
              "      } catch (error) {\n",
              "        console.error('Error during call to suggestCharts:', error);\n",
              "      }\n",
              "      quickchartButtonEl.classList.remove('colab-df-spinner');\n",
              "      quickchartButtonEl.classList.add('colab-df-quickchart-complete');\n",
              "    }\n",
              "    (() => {\n",
              "      let quickchartButtonEl =\n",
              "        document.querySelector('#df-6d354fa9-83cb-48e9-b907-8ba1f9297daf button');\n",
              "      quickchartButtonEl.style.display =\n",
              "        google.colab.kernel.accessAllowed ? 'block' : 'none';\n",
              "    })();\n",
              "  </script>\n",
              "</div>\n",
              "\n",
              "    </div>\n",
              "  </div>\n"
            ],
            "text/plain": [
              "      label  pixel_0  pixel_1  pixel_2  pixel_3  pixel_4  pixel_5  pixel_6  \\\n",
              "1590      5        0        0        0        0        0        0        0   \n",
              "2563      5        0        0        0        0        0        0        0   \n",
              "634       3        0        0        0        0        0        0        0   \n",
              "1164      5        0        0        0        0        0        0        0   \n",
              "1032      3        0        0        0        0        0        0        0   \n",
              "1874      3        0        0        0        0        0        0        0   \n",
              "1647      5        0        0        0        0        0        0        0   \n",
              "2394      3        0        0        0        0        0        0        0   \n",
              "689       3        0        0        0        0        0        0        0   \n",
              "690       3        0        0        0        0        0        0        0   \n",
              "\n",
              "      pixel_7  pixel_8  ...  pixel_774  pixel_775  pixel_776  pixel_777  \\\n",
              "1590        0        0  ...        0.0        0.0        0.0        0.0   \n",
              "2563        0        0  ...        0.0        0.0        0.0        0.0   \n",
              "634         0        0  ...        0.0        0.0        0.0        0.0   \n",
              "1164        0        0  ...        0.0        0.0        0.0        0.0   \n",
              "1032        0        0  ...        0.0        0.0        0.0        0.0   \n",
              "1874        0        0  ...        0.0        0.0        0.0        0.0   \n",
              "1647        0        0  ...        0.0        0.0        0.0        0.0   \n",
              "2394        0        0  ...        0.0        0.0        0.0        0.0   \n",
              "689         0        0  ...        0.0        0.0        0.0        0.0   \n",
              "690         0        0  ...        0.0        0.0        0.0        0.0   \n",
              "\n",
              "      pixel_778  pixel_779  pixel_780  pixel_781  pixel_782  pixel_783  \n",
              "1590        0.0        0.0        0.0        0.0        0.0        0.0  \n",
              "2563        0.0        0.0        0.0        0.0        0.0        0.0  \n",
              "634         0.0        0.0        0.0        0.0        0.0        0.0  \n",
              "1164        0.0        0.0        0.0        0.0        0.0        0.0  \n",
              "1032        0.0        0.0        0.0        0.0        0.0        0.0  \n",
              "1874        0.0        0.0        0.0        0.0        0.0        0.0  \n",
              "1647        0.0        0.0        0.0        0.0        0.0        0.0  \n",
              "2394        0.0        0.0        0.0        0.0        0.0        0.0  \n",
              "689         0.0        0.0        0.0        0.0        0.0        0.0  \n",
              "690         0.0        0.0        0.0        0.0        0.0        0.0  \n",
              "\n",
              "[10 rows x 785 columns]"
            ]
          },
          "execution_count": 17,
          "metadata": {},
          "output_type": "execute_result"
        }
      ],
      "source": [
        "import pandas as pd\n",
        "import numpy as np\n",
        "\n",
        "# Load the dataset\n",
        "df_01 = pd.read_csv(\"/content/drive/MyDrive/AI and ML/Worksheet3/mnist_3_and_5.csv\")\n",
        "\n",
        "# Extract Features and labels\n",
        "\n",
        "X = df_01.drop(columns=[\"label\"]).values #784 pixels\n",
        "y = df_01['label'].values # Labels (0 or 1)\n",
        "df_01.sample(10)\n"
      ]
    },
    {
      "cell_type": "code",
      "execution_count": null,
      "metadata": {
        "colab": {
          "base_uri": "https://localhost:8080/"
        },
        "id": "vyqbwqC_KDhA",
        "outputId": "6dbf928c-ddb2-40bf-bcbb-75972b7aaad4"
      },
      "outputs": [
        {
          "name": "stdout",
          "output_type": "stream",
          "text": [
            "Drive already mounted at /content/drive; to attempt to forcibly remount, call drive.mount(\"/content/drive\", force_remount=True).\n"
          ]
        }
      ],
      "source": [
        "from google.colab import drive\n",
        "drive.mount('/content/drive')"
      ]
    },
    {
      "cell_type": "code",
      "execution_count": null,
      "metadata": {
        "colab": {
          "base_uri": "https://localhost:8080/"
        },
        "id": "S93kfEhjFdZm",
        "outputId": "05a4c8c7-4205-45f5-fdc6-ba78377311ef"
      },
      "outputs": [
        {
          "name": "stdout",
          "output_type": "stream",
          "text": [
            "Feature matrix shape:  (2741, 784)\n",
            "Label vector shape:  (2741,)\n"
          ]
        }
      ],
      "source": [
        "# Check the shape of the features and labels\n",
        "print(\"Feature matrix shape: \",X.shape)\n",
        "print(\"Label vector shape: \",y.shape)"
      ]
    },
    {
      "cell_type": "markdown",
      "metadata": {
        "id": "Qw7A45h9Ftm1"
      },
      "source": [
        "Answer the Following Question:\n",
        "\n",
        "1. Question - 1: What does the shape of X represent?\n",
        "\n",
        "Ans: The shape of X respresents the row and column of the feature matrix\n",
        "\n"
      ]
    },
    {
      "cell_type": "markdown",
      "metadata": {
        "id": "bIuP41oVF5TW"
      },
      "source": [
        "###Visualize the Dataset:"
      ]
    },
    {
      "cell_type": "code",
      "execution_count": null,
      "metadata": {
        "colab": {
          "base_uri": "https://localhost:8080/",
          "height": 451
        },
        "id": "okCFFwEyFoRv",
        "outputId": "3bbec23c-366d-444f-dc66-b77babd98d86"
      },
      "outputs": [
        {
          "data": {
            "image/png": "[encoded data removed]",
            "text/plain": [
              "<Figure size 1000x500 with 10 Axes>"
            ]
          },
          "metadata": {},
          "output_type": "display_data"
        }
      ],
      "source": [
        "import matplotlib.pyplot as plt\n",
        "\n",
        "# Separate images for label 0 and label 1\n",
        "images_0 = X[y == 5] # Get all images with label 0\n",
        "images_1 = X[y == 3] # Get all images with label 1\n",
        "fig, axes = plt.subplots(2, 5, figsize=(10, 5))\n",
        "# Check if the arrays have the required amount of data\n",
        "if len(images_0) < 5 or len(images_1) < 5:\n",
        "  print(\"Error: Not enough images in images_0 or images_1 to plot 5 images.\")\n",
        "else:\n",
        "  for i in range(5):\n",
        "  # Plot digit 0\n",
        "    axes[0, i].imshow(images_0[i].reshape(28, 28), cmap=\"gray\")\n",
        "    axes[0, i].set_title(\"Label: 0\")\n",
        "    axes[0, i].axis(\"off\")\n",
        "    # Plot digit 1\n",
        "    axes[1, i].imshow(images_1[i].reshape(28, 28), cmap=\"gray\")\n",
        "    axes[1, i].set_title(\"Label: 1\")\n",
        "    axes[1, i].axis(\"off\")\n",
        "  plt.suptitle(\"First 5 Images of 0 and 1 from MNIST Subset\")\n",
        "  plt.show()"
      ]
    },
    {
      "cell_type": "markdown",
      "metadata": {
        "id": "pSrJdnLrHBvG"
      },
      "source": [
        "Initialize Weights and Bias:"
      ]
    },
    {
      "cell_type": "code",
      "execution_count": null,
      "metadata": {
        "id": "5qXPKpV4GC65"
      },
      "outputs": [],
      "source": [
        "# Initialize weights and bias\n",
        "weights = np.zeros(X.shape[1]) #784 weights (one for each pixel )\n",
        "bias =0\n",
        "learning_rate=0.1\n",
        "epochs = 100"
      ]
    },
    {
      "cell_type": "markdown",
      "metadata": {
        "id": "Z6R2qsFZHWtW"
      },
      "source": [
        "Answer the Following Question:\n",
        "\n",
        "1. Question - 3: What does the weights array represent in this context?\n",
        "ANS:\n",
        "\n",
        "  * The weights array represents the importance or influence of each pixel in the image when making a prediction.4\n",
        "\n",
        "  * Since each image in the dataset is 28x28 pixels (784 pixels in total), there is one weight associated with each pixel.\n",
        "\n",
        "  * These weights are updated during training to help the perceptron learn which pixels are more relevant for distinguishing between different digits (e.g., 5 and 3).\n",
        "\n",
        "2. Question - 4: Why are we initializing the weights to zero? What effect could this\n",
        "have on the training process?\n",
        "ANS:\n",
        "  * Initializing the weights to zero is done to start the learning process from scratch without any prior bias.\n",
        "\n",
        "  * Effect on training: If all weights are initialized to zero, the model can still learn in this case because the perceptron learning algorithm is based on updating weights during misclassification."
      ]
    },
    {
      "cell_type": "markdown",
      "metadata": {
        "id": "M2Cx8HTCIGBl"
      },
      "source": [
        "###Implement a Decision Function or Activation Function:"
      ]
    },
    {
      "cell_type": "code",
      "execution_count": null,
      "metadata": {
        "id": "R3Sm8Vk3IEN-"
      },
      "outputs": [],
      "source": [
        "def decision_function(X, weights, bias):\n",
        "  \"\"\"\n",
        "  Compute the predicted labels for the input data.\n",
        "  Parameters:\n",
        "  - X: Features (input data) as a numpy array of shape (n_samples, n_features)\n",
        "  - weights: Updated weights after training\n",
        "  - bias: Updated bias after training\n",
        "  Returns:\n",
        "  - y_pred_all: The predicted labels for the input data\n",
        "  \"\"\"\n",
        "  predictions = np.dot(X, weights) + bias\n",
        "  #####Your Code Here############ # Activation function (step function)\n",
        "  y_pred_all = np.where(predictions >=0 ,1,0)\n",
        "  return y_pred_all"
      ]
    },
    {
      "cell_type": "markdown",
      "metadata": {
        "id": "JTy_3EZKIPWs"
      },
      "source": [
        "###Implement the Perceptron Learning Algorithm:"
      ]
    },
    {
      "cell_type": "code",
      "execution_count": null,
      "metadata": {
        "id": "7Xfb2mSjISe1"
      },
      "outputs": [],
      "source": [
        "import numpy as np\n",
        "def train_perceptron(X, y, weights, bias, learning_rate=0.1, epochs=100):\n",
        "  \"\"\"\n",
        "  Train the perceptron using the Perceptron Learning Algorithm.\n",
        "  Parameters:\n",
        "  - X: Features (input data) as a numpy array of shape (n_samples, n_features)\n",
        "  - y: Labels (true output) as a numpy array of shape (n_samples,)\n",
        "  - weights: Initial weights as a numpy array of shape (n_features,)\n",
        "  - bias: Initial bias value (scalar)\n",
        "  - learning_rate: Learning rate for weight updates (default is 0.1)\n",
        "  - epochs: Number of iterations to train the model (default is 100)\n",
        "  Returns:\n",
        "  - weights: Updated weights after training\n",
        "  - bias: Updated bias after training\n",
        "  - accuracy: Total correct prediction.\n",
        "  \"\"\"\n",
        "  # Step 3: Perceptron Learning Algorithm\n",
        "  # Your Code here#\n",
        "  for epoch in range(0,epochs,10):\n",
        "    total_correct =0\n",
        "    for i in range(len(X1)):\n",
        "      # Calculate prediction using decision function\n",
        "      y_pred = decision_function(X[i], weights, bias)\n",
        "      # Find the error for each value of y\n",
        "      error = y[i] - y_pred\n",
        "      # If error not equal to 0 update the weight and bias else if the error is 1 increase the total_correct variable\n",
        "      if error !=0:\n",
        "        weights += learning_rate * error * X[i]\n",
        "        bias += learning_rate * error\n",
        "      else:\n",
        "        total_correct +=1\n",
        "\n",
        "      accuracy = total_correct / len(X)\n",
        "      print(f\"Epoch: {epoch}: Accuracy= {accuracy}\")\n",
        "  return weights, bias, accuracy"
      ]
    },
    {
      "cell_type": "markdown",
      "metadata": {
        "id": "wDCrYA2bJ0Nz"
      },
      "source": [
        "Answer the Following Question:\n",
        "\n",
        "Question - 5: What is the purpose of the output = np.dot(X[i], weights) + bias line?\n",
        "\n",
        "ANS: The purpose of the output np.dot(X[i], weights) + bias line) is to calculate the weighted sum of inputs plus the bias, which is also known as the activation function in the perceptron algorithm.\n",
        "\n",
        "Question - 6: What happens when the prediction is wrong? How are the weights and\n",
        "bias updated?\n",
        "\n",
        "ANS: When the prediction is wrong in the perceptron algorithm, it means the output produced by the perceptron does not match the expected output (target label).\n",
        "\n",
        "\n",
        "Question 7: Why is the final accuracy important, and what do you expect it to be?\n",
        "\n",
        "ANS: The final accuracy is important because it gives an indication of how well the model performs on the test or validation dataset, which represents how well the perceptron generalizes to unseen data."
      ]
    },
    {
      "cell_type": "markdown",
      "metadata": {
        "id": "ksd_WC8WKOju"
      },
      "source": [
        "###Training the Perceptron Algorithm:"
      ]
    },
    {
      "cell_type": "code",
      "execution_count": null,
      "metadata": {
        "colab": {
          "base_uri": "https://localhost:8080/"
        },
        "id": "hPUaaHbZKK7u",
        "outputId": "2bcce28f-4c70-4335-e9b6-edea8737b2ad"
      },
      "outputs": [
        {
          "name": "stdout",
          "output_type": "stream",
          "text": [
            "Epoch: 0: Accuracy= 0.0\n",
            "Epoch: 0: Accuracy= 0.0\n",
            "Epoch: 0: Accuracy= 0.0\n",
            "Epoch: 0: Accuracy= 0.0\n",
            "Epoch: 10: Accuracy= 0.0\n",
            "Epoch: 10: Accuracy= 0.0\n",
            "Epoch: 10: Accuracy= 0.0\n",
            "Epoch: 10: Accuracy= 0.0\n",
            "Epoch: 20: Accuracy= 0.0\n",
            "Epoch: 20: Accuracy= 0.0\n",
            "Epoch: 20: Accuracy= 0.0\n",
            "Epoch: 20: Accuracy= 0.0\n",
            "Epoch: 30: Accuracy= 0.0\n",
            "Epoch: 30: Accuracy= 0.0\n",
            "Epoch: 30: Accuracy= 0.0\n",
            "Epoch: 30: Accuracy= 0.0\n",
            "Epoch: 40: Accuracy= 0.0\n",
            "Epoch: 40: Accuracy= 0.0\n",
            "Epoch: 40: Accuracy= 0.0\n",
            "Epoch: 40: Accuracy= 0.0\n",
            "Epoch: 50: Accuracy= 0.0\n",
            "Epoch: 50: Accuracy= 0.0\n",
            "Epoch: 50: Accuracy= 0.0\n",
            "Epoch: 50: Accuracy= 0.0\n",
            "Epoch: 60: Accuracy= 0.0\n",
            "Epoch: 60: Accuracy= 0.0\n",
            "Epoch: 60: Accuracy= 0.0\n",
            "Epoch: 60: Accuracy= 0.0\n",
            "Epoch: 70: Accuracy= 0.0\n",
            "Epoch: 70: Accuracy= 0.0\n",
            "Epoch: 70: Accuracy= 0.0\n",
            "Epoch: 70: Accuracy= 0.0\n",
            "Epoch: 80: Accuracy= 0.0\n",
            "Epoch: 80: Accuracy= 0.0\n",
            "Epoch: 80: Accuracy= 0.0\n",
            "Epoch: 80: Accuracy= 0.0\n",
            "Epoch: 90: Accuracy= 0.0\n",
            "Epoch: 90: Accuracy= 0.0\n",
            "Epoch: 90: Accuracy= 0.0\n",
            "Epoch: 90: Accuracy= 0.0\n",
            "The Final Accuracy is:  0.0\n"
          ]
        }
      ],
      "source": [
        "# After training the model with the perceptron_learning_algorithm\n",
        "weights, bias, accuracy = train_perceptron(X, y, weights, bias)\n",
        "# Evaluate the model using the new function\n",
        "print(\"The Final Accuracy is: \", accuracy)"
      ]
    },
    {
      "cell_type": "markdown",
      "metadata": {
        "id": "Bz6R-n9OKfL-"
      },
      "source": [
        "###Visualizing the Misclassified Image:"
      ]
    },
    {
      "cell_type": "code",
      "execution_count": null,
      "metadata": {
        "colab": {
          "base_uri": "https://localhost:8080/",
          "height": 468
        },
        "id": "38qhIJYMKgCP",
        "outputId": "992b964f-20d9-46ce-b715-714759cad577"
      },
      "outputs": [
        {
          "name": "stdout",
          "output_type": "stream",
          "text": [
            "Final Accuracy: 0.0000\n"
          ]
        },
        {
          "data": {
            "image/png": "[encoded data removed]",
            "text/plain": [
              "<Figure size 1000x500 with 10 Axes>"
            ]
          },
          "metadata": {},
          "output_type": "display_data"
        }
      ],
      "source": [
        "# Get predictions for all data points\n",
        "predictions = np.dot(X, weights) + bias\n",
        "y_pred = np.where(predictions >= 0, 1, 0)\n",
        "# Calculate final accuracy\n",
        "final_accuracy = np.mean(y_pred == y)\n",
        "print(f\"Final Accuracy: {final_accuracy:.4f}\")\n",
        "# Step 5: Visualize Misclassified Images\n",
        "misclassified_idx = np.where(y_pred != y)[0]\n",
        "if len(misclassified_idx) > 0:\n",
        "  fig, axes = plt.subplots(2, 5, figsize=(10, 5))\n",
        "  for ax, idx in zip(axes.flat, misclassified_idx[:10]): # Show 10 misclassified images\n",
        "    ax.imshow(X[idx].reshape(28, 28), cmap=\"gray\")\n",
        "    ax.set_title(f\"Pred: {y_pred[idx]}, True: {y[idx]}\")\n",
        "    ax.axis(\"off\")\n",
        "  plt.suptitle(\"Misclassified Images\")\n",
        "  plt.show()\n",
        "else:\n",
        "  print(\"All images were correctly classified!\")"
      ]
    },
    {
      "cell_type": "markdown",
      "metadata": {
        "id": "O7I5njosLIAm"
      },
      "source": [
        "1. Question - 8: What does misclassified_idx store, and how is it used in this code?\n",
        "\n",
        "ANS: The variable misclassified_idx stores the indices of the data points (images, in this case) that were misclassified by the model.\n",
        "\n",
        "What it stores:\n",
        "\n",
        "  * The expression np.where(y_pred != y)[0] compares the predicted labels (y_pred) with the true labels (y) and returns the indices where the prediction is incorrect (i.e., when y_pred != y). This returns an array of indices where misclassifications occurred.\n",
        "\n",
        "  * The [0] at the end of the expression extracts the indices from the tuple returned by np.where.\n",
        "\n",
        "\n",
        "How it is used:\n",
        "\n",
        "  * After identifying the misclassified indices, the code uses these indices to visualize the images that were misclassified.\n",
        "\n",
        "  * The misclassified_idx array is used to select up to 10 misclassified images from the dataset, which are displayed in a grid using matplotlib.\n",
        "\n",
        "  * This helps you visually inspect which images were misclassified and potentially diagnose why the model is making errors."
      ]
    },
    {
      "cell_type": "markdown",
      "metadata": {
        "id": "I3_AZd5ULSu2"
      },
      "source": [
        "2. Question - 9: How do you interpret the result if the output is ”All images were\n",
        "correctly classified!”?\n",
        "\n",
        "ANS: If the output is \"All images were correctly classified!\", it means that the model successfully predicted every single image correctly. Specifically:\n",
        "\n",
        "Perfect Accuracy:\n",
        "\n",
        "  The predicted labels (y_pred) exactly match the true labels (y) for all data points. This implies a final accuracy of 100%, indicating that the model has perfectly learned the patterns in the dataset.\n",
        "  \n",
        "Model Performance:\n",
        "\n",
        "  * In practice, if this happens, it suggests that the model has a very strong ability to generalize to the test data (assuming the model was trained and evaluated on data that is representative of the problem).\n",
        "\n",
        "  * If this result is achieved on a simple or small dataset, it might be expected. However, if it occurs on a more complex or large dataset, it indicates that the model has learned the task well.\n",
        "\n",
        "Overfitting Possibility:\n",
        "\n",
        "  * If the model was trained and tested on the same data and outputs this result, there might be a risk of overfitting, where the model memorizes the training data rather than generalizing to new data.\n",
        "\n",
        "  * To rule out overfitting, it’s important to evaluate the model on a separate test set or use techniques like cross-validation to assess how it performs on unseen data."
      ]
    }
  ],
  "metadata": {
    "colab": {
      "provenance": []
    },
    "kernelspec": {
      "display_name": "Python 3",
      "name": "python3"
    },
    "language_info": {
      "codemirror_mode": {
        "name": "ipython",
        "version": 3
      },
      "file_extension": ".py",
      "mimetype": "text/x-python",
      "name": "python",
      "nbconvert_exporter": "python",
      "pygments_lexer": "ipython3",
      "version": "3.11.2"
    }
  },
  "nbformat": 4,
  "nbformat_minor": 0
}
